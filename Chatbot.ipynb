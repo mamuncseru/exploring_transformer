{
  "nbformat": 4,
  "nbformat_minor": 0,
  "metadata": {
    "colab": {
      "provenance": [],
      "authorship_tag": "ABX9TyPMP6KlnINZBa1TBvQDXGSQ",
      "include_colab_link": true
    },
    "kernelspec": {
      "name": "python3",
      "display_name": "Python 3"
    },
    "language_info": {
      "name": "python"
    }
  },
  "cells": [
    {
      "cell_type": "markdown",
      "metadata": {
        "id": "view-in-github",
        "colab_type": "text"
      },
      "source": [
        "<a href=\"https://colab.research.google.com/github/mamuncseru/exploring_transformer/blob/main/Chatbot.ipynb\" target=\"_parent\"><img src=\"https://colab.research.google.com/assets/colab-badge.svg\" alt=\"Open In Colab\"/></a>"
      ]
    },
    {
      "cell_type": "markdown",
      "source": [
        "DESCRIPTION: [Dataset](https://www.cs.cornell.edu/~cristian/Cornell_Movie-Dialogs_Corpus.html)\n",
        "\n",
        "                                    \n",
        "This corpus contains a large metadata-rich collection of fictional conversations extracted from raw movie scripts:\n",
        "\n",
        "\n",
        "\n",
        "- 220,579 conversational exchanges between 10,292 pairs of movie characters\n",
        "\n",
        "- involves 9,035 characters from 617 movies\n",
        "\n",
        "- in total 304,713 utterances\n",
        "\n",
        "- movie metadata included:\n",
        "\n",
        "    - genres\n",
        "\n",
        "    - release year\n",
        "\n",
        "    - IMDB rating\n",
        "\n",
        "    - number of IMDB votes\n",
        "\n",
        "    - IMDB rating\n",
        "\n",
        "- character metadata included:\n",
        "\n",
        "    - gender (for 3,774 characters)\n",
        "\n",
        "    - position on movie credits (3,321 characters)\n",
        "\n",
        "- see the documentation for details"
      ],
      "metadata": {
        "id": "MqRn4XsOHJ3J"
      }
    },
    {
      "cell_type": "code",
      "execution_count": null,
      "metadata": {
        "id": "nRgFzav5HFVl"
      },
      "outputs": [],
      "source": []
    },
    {
      "cell_type": "code",
      "source": [
        "from google.colab import drive\n",
        "drive.mount('/content/drive')"
      ],
      "metadata": {
        "colab": {
          "base_uri": "https://localhost:8080/"
        },
        "id": "UObcq9Z3Inu-",
        "outputId": "cf767d4e-706f-443a-cc20-14bb4e76c66f"
      },
      "execution_count": 1,
      "outputs": [
        {
          "output_type": "stream",
          "name": "stdout",
          "text": [
            "Mounted at /content/drive\n"
          ]
        }
      ]
    },
    {
      "cell_type": "markdown",
      "source": [
        "## Import libraries"
      ],
      "metadata": {
        "id": "uBucceTRIodW"
      }
    },
    {
      "cell_type": "code",
      "source": [
        "from collections import Counter\n",
        "import json\n",
        "\n",
        "import torch\n",
        "import torch.nn as nn\n",
        "from torch.utils.data import Dataset\n",
        "import torch.utils.data\n",
        "import math\n",
        "import torch.nn.functional as F"
      ],
      "metadata": {
        "id": "pKivUQPpI3S9"
      },
      "execution_count": 2,
      "outputs": []
    },
    {
      "cell_type": "code",
      "source": [
        "corpus_movie_conv = '/content/drive/MyDrive/Transformer/data/movie_conversations.txt'\n",
        "corpus_movie_lines = '/content/drive/MyDrive/Transformer/data/movie_conversations.txt'"
      ],
      "metadata": {
        "id": "zHc13SU9JHaj"
      },
      "execution_count": 3,
      "outputs": []
    },
    {
      "cell_type": "code",
      "source": [],
      "metadata": {
        "id": "7CzgEcKNJQXU"
      },
      "execution_count": null,
      "outputs": []
    }
  ]
}